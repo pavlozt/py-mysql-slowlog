{
 "cells": [
  {
   "cell_type": "markdown",
   "metadata": {
    "lang": "en"
   },
   "source": [
    "# Working with MySQL slow log data like Data Scientist. #\n",
    "\n",
    "The possibilities of pandas for filtering and aggregating data are wide and convenient. Advanced graphics tools allow you to visualize data in a non-standard way.\n",
    "\n",
    "Obfuscated data taken from some real mysql server will be used.\n",
    "\n",
    "\n",
    "## Problem ##\n",
    "\n",
    "An accident has occurred due to a failed setup of mysql tmpdir. The ramdisk size has not been set large enough. It is necessary to estimate the safe size of tmpdir based only on the mysql slow log data\n",
    "\n",
    "Perhaps this example is contrived, but when investigating events that have already taken place, there is no way to reconfigure the server to store logs in a table. We have to deal with the information we have."
   ]
  },
  {
   "cell_type": "code",
   "execution_count": 1,
   "metadata": {},
   "outputs": [],
   "source": [
    "import pandas as pd\n",
    "import mysqlslowlog # this module"
   ]
  },
  {
   "cell_type": "code",
   "execution_count": 2,
   "metadata": {},
   "outputs": [],
   "source": [
    "import matplotlib.pyplot as plt\n",
    "import matplotlib\n",
    "import numpy as np\n",
    "import matplotlib.pyplot as plt\n",
    "%matplotlib inline"
   ]
  },
  {
   "cell_type": "markdown",
   "metadata": {},
   "source": [
    "a set of files has been downloaded and placed in the **slowlog** directory"
   ]
  },
  {
   "cell_type": "code",
   "execution_count": 3,
   "metadata": {},
   "outputs": [],
   "source": [
    "import glob\n",
    "files = sorted(glob.glob('slowlog/mariadb*'))"
   ]
  },
  {
   "cell_type": "markdown",
   "metadata": {},
   "source": [
    "We read and combine all the data into one dataframe"
   ]
  },
  {
   "cell_type": "code",
   "execution_count": 4,
   "metadata": {},
   "outputs": [
    {
     "name": "stdout",
     "output_type": "stream",
     "text": [
      "slowlog/mariadb-slow.log\n",
      "slowlog/mariadb-slow.log.1.gz\n",
      "slowlog/mariadb-slow.log.2.gz\n",
      "slowlog/mariadb-slow.log.3.gz\n",
      "slowlog/mariadb-slow.log.4.gz\n",
      "slowlog/mariadb-slow.log.5.gz\n",
      "slowlog/mariadb-slow.log.6.gz\n",
      "slowlog/mariadb-slow.log.7.gz\n"
     ]
    }
   ],
   "source": [
    "alldata = pd.DataFrame()\n",
    "for filename in files:\n",
    "    print(filename)\n",
    "    onefile  = mysqlslowlog.read(filename,save_sql=False)\n",
    "    alldata = pd.concat([alldata,onefile])\n",
    "    \n",
    "#alldata=alldata.sort_index()\n",
    "\n",
    "alldata = alldata.drop(columns='schema') # need obfuscate some columns for privacy"
   ]
  },
  {
   "cell_type": "code",
   "execution_count": 5,
   "metadata": {},
   "outputs": [
    {
     "data": {
      "text/plain": [
       "timestamp            datetime64[ns]\n",
       "sqltext                      object\n",
       "rows_sent                     int64\n",
       "rows_examined                 int64\n",
       "rows_affected                 int64\n",
       "bytes_sent                    int64\n",
       "tmp_table_sizes               int64\n",
       "tmp_tables                    int64\n",
       "tmp_disk_tables               int64\n",
       "merge_passes                  int64\n",
       "query_time                  float64\n",
       "lock_time                   float64\n",
       "full_scan                      bool\n",
       "full_join                      bool\n",
       "tmp_table                      bool\n",
       "tmp_table_on_disk              bool\n",
       "filesort                       bool\n",
       "filesort_on_disk               bool\n",
       "dtype: object"
      ]
     },
     "execution_count": 5,
     "metadata": {},
     "output_type": "execute_result"
    }
   ],
   "source": [
    "# are the data types as expected ?\n",
    "alldata.dtypes"
   ]
  },
  {
   "cell_type": "code",
   "execution_count": 6,
   "metadata": {},
   "outputs": [
    {
     "data": {
      "text/plain": [
       "(4642, 18)"
      ]
     },
     "execution_count": 6,
     "metadata": {},
     "output_type": "execute_result"
    }
   ],
   "source": [
    "# total records\n",
    "alldata.shape"
   ]
  },
  {
   "cell_type": "code",
   "execution_count": 7,
   "metadata": {},
   "outputs": [
    {
     "name": "stdout",
     "output_type": "stream",
     "text": [
      "<class 'pandas.core.frame.DataFrame'>\n",
      "Int64Index: 4642 entries, 0 to 521\n",
      "Data columns (total 18 columns):\n",
      " #   Column             Non-Null Count  Dtype         \n",
      "---  ------             --------------  -----         \n",
      " 0   timestamp          4642 non-null   datetime64[ns]\n",
      " 1   sqltext            4642 non-null   object        \n",
      " 2   rows_sent          4642 non-null   int64         \n",
      " 3   rows_examined      4642 non-null   int64         \n",
      " 4   rows_affected      4642 non-null   int64         \n",
      " 5   bytes_sent         4642 non-null   int64         \n",
      " 6   tmp_table_sizes    4642 non-null   int64         \n",
      " 7   tmp_tables         4642 non-null   int64         \n",
      " 8   tmp_disk_tables    4642 non-null   int64         \n",
      " 9   merge_passes       4642 non-null   int64         \n",
      " 10  query_time         4642 non-null   float64       \n",
      " 11  lock_time          4642 non-null   float64       \n",
      " 12  full_scan          4642 non-null   bool          \n",
      " 13  full_join          4642 non-null   bool          \n",
      " 14  tmp_table          4642 non-null   bool          \n",
      " 15  tmp_table_on_disk  4642 non-null   bool          \n",
      " 16  filesort           4642 non-null   bool          \n",
      " 17  filesort_on_disk   4642 non-null   bool          \n",
      "dtypes: bool(6), datetime64[ns](1), float64(2), int64(8), object(1)\n",
      "memory usage: 720.8 KB\n"
     ]
    }
   ],
   "source": [
    "# summary of the memory occupied by the data:\n",
    "alldata.info(memory_usage=\"deep\")"
   ]
  },
  {
   "cell_type": "code",
   "execution_count": 8,
   "metadata": {},
   "outputs": [],
   "source": [
    "# Convert bytes to megabytes.\n",
    "# In this form, the data is more familiar to evaluate.\n",
    "alldata['tmp_table_sizes_mb'] = alldata['tmp_table_sizes']/(1024*1024)"
   ]
  },
  {
   "cell_type": "markdown",
   "metadata": {},
   "source": [
    "## Accident ##\n",
    "We are interested in the behavior of the server in the vicinity of 2022-07-14.\n",
    "Let's delete the extra data on the time interval.\n",
    "\n",
    "We are also interested in queries that involve sorting on disk\n",
    "\n",
    "The logical expression that combines all these conditions looks like this:"
   ]
  },
  {
   "cell_type": "code",
   "execution_count": 9,
   "metadata": {},
   "outputs": [],
   "source": [
    "df = alldata[(pd.Timestamp('2022-07-14 00:00') <alldata.timestamp )\n",
    "             & (alldata.timestamp < pd.Timestamp('2022-07-14 19:00'))\n",
    "             & alldata.tmp_table_on_disk]"
   ]
  },
  {
   "cell_type": "markdown",
   "metadata": {},
   "source": [
    "evaluate whether the data is loaded and preprocessed correctly"
   ]
  },
  {
   "cell_type": "code",
   "execution_count": 10,
   "metadata": {},
   "outputs": [
    {
     "data": {
      "text/html": [
       "<div>\n",
       "<style scoped>\n",
       "    .dataframe tbody tr th:only-of-type {\n",
       "        vertical-align: middle;\n",
       "    }\n",
       "\n",
       "    .dataframe tbody tr th {\n",
       "        vertical-align: top;\n",
       "    }\n",
       "\n",
       "    .dataframe thead th {\n",
       "        text-align: right;\n",
       "    }\n",
       "</style>\n",
       "<table border=\"1\" class=\"dataframe\">\n",
       "  <thead>\n",
       "    <tr style=\"text-align: right;\">\n",
       "      <th></th>\n",
       "      <th>timestamp</th>\n",
       "      <th>sqltext</th>\n",
       "      <th>rows_sent</th>\n",
       "      <th>rows_examined</th>\n",
       "      <th>rows_affected</th>\n",
       "      <th>bytes_sent</th>\n",
       "      <th>tmp_table_sizes</th>\n",
       "      <th>tmp_tables</th>\n",
       "      <th>tmp_disk_tables</th>\n",
       "      <th>merge_passes</th>\n",
       "      <th>query_time</th>\n",
       "      <th>lock_time</th>\n",
       "      <th>full_scan</th>\n",
       "      <th>full_join</th>\n",
       "      <th>tmp_table</th>\n",
       "      <th>tmp_table_on_disk</th>\n",
       "      <th>filesort</th>\n",
       "      <th>filesort_on_disk</th>\n",
       "      <th>tmp_table_sizes_mb</th>\n",
       "    </tr>\n",
       "  </thead>\n",
       "  <tbody>\n",
       "    <tr>\n",
       "      <th>0</th>\n",
       "      <td>2022-07-14 00:00:10</td>\n",
       "      <td></td>\n",
       "      <td>100</td>\n",
       "      <td>1766939</td>\n",
       "      <td>0</td>\n",
       "      <td>344376</td>\n",
       "      <td>543612928</td>\n",
       "      <td>3</td>\n",
       "      <td>2</td>\n",
       "      <td>0</td>\n",
       "      <td>8.830811</td>\n",
       "      <td>0.000167</td>\n",
       "      <td>True</td>\n",
       "      <td>False</td>\n",
       "      <td>True</td>\n",
       "      <td>True</td>\n",
       "      <td>True</td>\n",
       "      <td>False</td>\n",
       "      <td>518.429688</td>\n",
       "    </tr>\n",
       "    <tr>\n",
       "      <th>3</th>\n",
       "      <td>2022-07-14 00:05:10</td>\n",
       "      <td></td>\n",
       "      <td>100</td>\n",
       "      <td>1766919</td>\n",
       "      <td>0</td>\n",
       "      <td>348708</td>\n",
       "      <td>543465472</td>\n",
       "      <td>3</td>\n",
       "      <td>2</td>\n",
       "      <td>0</td>\n",
       "      <td>8.492314</td>\n",
       "      <td>0.000195</td>\n",
       "      <td>True</td>\n",
       "      <td>False</td>\n",
       "      <td>True</td>\n",
       "      <td>True</td>\n",
       "      <td>True</td>\n",
       "      <td>False</td>\n",
       "      <td>518.289062</td>\n",
       "    </tr>\n",
       "    <tr>\n",
       "      <th>4</th>\n",
       "      <td>2022-07-14 00:10:10</td>\n",
       "      <td></td>\n",
       "      <td>100</td>\n",
       "      <td>1766922</td>\n",
       "      <td>0</td>\n",
       "      <td>348607</td>\n",
       "      <td>543457280</td>\n",
       "      <td>3</td>\n",
       "      <td>2</td>\n",
       "      <td>0</td>\n",
       "      <td>8.634478</td>\n",
       "      <td>0.000161</td>\n",
       "      <td>True</td>\n",
       "      <td>False</td>\n",
       "      <td>True</td>\n",
       "      <td>True</td>\n",
       "      <td>True</td>\n",
       "      <td>False</td>\n",
       "      <td>518.281250</td>\n",
       "    </tr>\n",
       "    <tr>\n",
       "      <th>5</th>\n",
       "      <td>2022-07-14 00:15:10</td>\n",
       "      <td></td>\n",
       "      <td>100</td>\n",
       "      <td>1766922</td>\n",
       "      <td>0</td>\n",
       "      <td>348607</td>\n",
       "      <td>543457280</td>\n",
       "      <td>3</td>\n",
       "      <td>2</td>\n",
       "      <td>0</td>\n",
       "      <td>8.627150</td>\n",
       "      <td>0.000126</td>\n",
       "      <td>True</td>\n",
       "      <td>False</td>\n",
       "      <td>True</td>\n",
       "      <td>True</td>\n",
       "      <td>True</td>\n",
       "      <td>False</td>\n",
       "      <td>518.281250</td>\n",
       "    </tr>\n",
       "    <tr>\n",
       "      <th>6</th>\n",
       "      <td>2022-07-14 00:20:09</td>\n",
       "      <td></td>\n",
       "      <td>100</td>\n",
       "      <td>1766922</td>\n",
       "      <td>0</td>\n",
       "      <td>348607</td>\n",
       "      <td>543457280</td>\n",
       "      <td>3</td>\n",
       "      <td>2</td>\n",
       "      <td>0</td>\n",
       "      <td>8.635135</td>\n",
       "      <td>0.000192</td>\n",
       "      <td>True</td>\n",
       "      <td>False</td>\n",
       "      <td>True</td>\n",
       "      <td>True</td>\n",
       "      <td>True</td>\n",
       "      <td>False</td>\n",
       "      <td>518.281250</td>\n",
       "    </tr>\n",
       "  </tbody>\n",
       "</table>\n",
       "</div>"
      ],
      "text/plain": [
       "            timestamp sqltext  rows_sent  rows_examined  rows_affected  \\\n",
       "0 2022-07-14 00:00:10                100        1766939              0   \n",
       "3 2022-07-14 00:05:10                100        1766919              0   \n",
       "4 2022-07-14 00:10:10                100        1766922              0   \n",
       "5 2022-07-14 00:15:10                100        1766922              0   \n",
       "6 2022-07-14 00:20:09                100        1766922              0   \n",
       "\n",
       "   bytes_sent  tmp_table_sizes  tmp_tables  tmp_disk_tables  merge_passes  \\\n",
       "0      344376        543612928           3                2             0   \n",
       "3      348708        543465472           3                2             0   \n",
       "4      348607        543457280           3                2             0   \n",
       "5      348607        543457280           3                2             0   \n",
       "6      348607        543457280           3                2             0   \n",
       "\n",
       "   query_time  lock_time  full_scan  full_join  tmp_table  tmp_table_on_disk  \\\n",
       "0    8.830811   0.000167       True      False       True               True   \n",
       "3    8.492314   0.000195       True      False       True               True   \n",
       "4    8.634478   0.000161       True      False       True               True   \n",
       "5    8.627150   0.000126       True      False       True               True   \n",
       "6    8.635135   0.000192       True      False       True               True   \n",
       "\n",
       "   filesort  filesort_on_disk  tmp_table_sizes_mb  \n",
       "0      True             False          518.429688  \n",
       "3      True             False          518.289062  \n",
       "4      True             False          518.281250  \n",
       "5      True             False          518.281250  \n",
       "6      True             False          518.281250  "
      ]
     },
     "execution_count": 10,
     "metadata": {},
     "output_type": "execute_result"
    }
   ],
   "source": [
    "df.head(5)"
   ]
  },
  {
   "cell_type": "markdown",
   "metadata": {},
   "source": [
    "Let's try a naive way to display the data"
   ]
  },
  {
   "cell_type": "code",
   "execution_count": 11,
   "metadata": {},
   "outputs": [
    {
     "data": {
      "image/png": "[encoded data removed]",
      "text/plain": [
       "<Figure size 1080x216 with 1 Axes>"
      ]
     },
     "metadata": {
      "needs_background": "light"
     },
     "output_type": "display_data"
    }
   ],
   "source": [
    "df.plot(kind='scatter',x='timestamp',y='tmp_table_sizes_mb',figsize=(15,3),alpha=0.3,s=20);"
   ]
  },
  {
   "cell_type": "markdown",
   "metadata": {},
   "source": [
    "Obviously, these events are difficult to perceive as a process. \n",
    "Therefore, we regroup the data and for this we need pandas!"
   ]
  },
  {
   "cell_type": "code",
   "execution_count": 12,
   "metadata": {},
   "outputs": [
    {
     "data": {
      "text/plain": [
       "timestamp\n",
       "2022-07-14 00:00:00    518.429688\n",
       "2022-07-14 00:05:00    518.289062\n",
       "2022-07-14 00:10:00    518.281250\n",
       "2022-07-14 00:15:00    518.281250\n",
       "2022-07-14 00:20:00    518.281250\n",
       "Freq: 5T, Name: tmp_table_sizes_mb, dtype: float64"
      ]
     },
     "execution_count": 12,
     "metadata": {},
     "output_type": "execute_result"
    }
   ],
   "source": [
    "sortbytes=df.resample('5min',on='timestamp')['tmp_table_sizes_mb'].sum()\n",
    "sortbytes.head(5)"
   ]
  },
  {
   "cell_type": "code",
   "execution_count": 13,
   "metadata": {},
   "outputs": [
    {
     "data": {
      "image/png": "[encoded data removed]",
      "text/plain": [
       "<Figure size 1080x216 with 1 Axes>"
      ]
     },
     "metadata": {
      "needs_background": "light"
     },
     "output_type": "display_data"
    }
   ],
   "source": [
    "sortbytes.plot(figsize=(15,3),grid=True,rot=45,\n",
    "               ylabel='Mbytes per 5min',\n",
    "               title='Disk sorts');"
   ]
  },
  {
   "cell_type": "markdown",
   "metadata": {},
   "source": [
    "Due to the accident, not all requests completed and ended up in the log.\n",
    "It can be seen that before the accident, the amount of bytes increased. And after the crash, 12GB was successfully sorted.\n",
    "\n",
    "Smaller interval will show whether the excess at the time of the accident was critical:"
   ]
  },
  {
   "cell_type": "code",
   "execution_count": 14,
   "metadata": {},
   "outputs": [
    {
     "data": {
      "image/png": "[encoded data removed]",
      "text/plain": [
       "<Figure size 1080x216 with 1 Axes>"
      ]
     },
     "metadata": {
      "needs_background": "light"
     },
     "output_type": "display_data"
    }
   ],
   "source": [
    "alldata[(pd.Timestamp('2022-07-14 10:00') <alldata.timestamp )  \\\n",
    "         & (alldata.timestamp < pd.Timestamp('2022-07-14 15:10')\n",
    "         )\n",
    "         & alldata.tmp_table_on_disk] \\\n",
    "    .resample('1min',on='timestamp')['tmp_table_sizes_mb'].sum() \\\n",
    "    .plot(figsize=(15,3),grid=True,rot=45,ylabel='Mb per 1min',title='Disk sorts');"
   ]
  },
  {
   "cell_type": "markdown",
   "metadata": {},
   "source": [
    "## Code changes   ## \n",
    "A after changes in the code, the amount of sorted data has decreased significantly.\n",
    "We can draw this."
   ]
  },
  {
   "cell_type": "code",
   "execution_count": 15,
   "metadata": {},
   "outputs": [
    {
     "data": {
      "image/png": "[encoded data removed]",
      "text/plain": [
       "<Figure size 1080x216 with 1 Axes>"
      ]
     },
     "metadata": {
      "needs_background": "light"
     },
     "output_type": "display_data"
    }
   ],
   "source": [
    "alldata[(pd.Timestamp('2022-07-14 00:00') <alldata.timestamp )  \\\n",
    "         & (alldata.timestamp < pd.Timestamp('2022-07-18 0:00')\n",
    "         )\n",
    "         & alldata.tmp_table_on_disk] \\\n",
    "    .resample('5min',on='timestamp')['tmp_table_sizes_mb'] \\\n",
    "    .sum() \\\n",
    "    .plot(figsize=(15,3),grid=True,rot=0,\n",
    "          ylabel='Mb per 5min',\n",
    "          title='Disk sorts');"
   ]
  },
  {
   "cell_type": "code",
   "execution_count": null,
   "metadata": {},
   "outputs": [],
   "source": []
  }
 ],
 "metadata": {
  "kernelspec": {
   "display_name": "Python 3 (ipykernel)",
   "language": "python",
   "name": "python3"
  },
  "language_info": {
   "codemirror_mode": {
    "name": "ipython",
    "version": 3
   },
   "file_extension": ".py",
   "mimetype": "text/x-python",
   "name": "python",
   "nbconvert_exporter": "python",
   "pygments_lexer": "ipython3",
   "version": "3.9.2"
  },
  "nbTranslate": {
   "displayLangs": [
    "*"
   ],
   "hotkey": "alt-t",
   "langInMainMenu": true,
   "sourceLang": "en",
   "targetLang": "fr",
   "useGoogleTranslate": false
  },
  "varInspector": {
   "cols": {
    "lenName": 16,
    "lenType": 16,
    "lenVar": 40
   },
   "kernels_config": {
    "python": {
     "delete_cmd_postfix": "",
     "delete_cmd_prefix": "del ",
     "library": "var_list.py",
     "varRefreshCmd": "print(var_dic_list())"
    },
    "r": {
     "delete_cmd_postfix": ") ",
     "delete_cmd_prefix": "rm(",
     "library": "var_list.r",
     "varRefreshCmd": "cat(var_dic_list()) "
    }
   },
   "types_to_exclude": [
    "module",
    "function",
    "builtin_function_or_method",
    "instance",
    "_Feature"
   ],
   "window_display": false
  }
 },
 "nbformat": 4,
 "nbformat_minor": 4
}
